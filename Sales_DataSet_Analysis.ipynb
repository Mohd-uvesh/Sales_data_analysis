{
 "cells": [
  {
   "cell_type": "markdown",
   "id": "22691efe",
   "metadata": {},
   "source": [
    "# 📊 Sales Data Analysis Project\n",
    "---\n",
    "This notebook demonstrates a simple **Data Analyst project** using Python, Pandas, and visualization libraries (Matplotlib & Seaborn)."
   ]
  },
  {
   "cell_type": "code",
   "execution_count": null,
   "id": "a8a72445",
   "metadata": {},
   "outputs": [],
   "source": [
    "\n",
    "# Step 1: Import Libraries\n",
    "import pandas as pd\n",
    "import matplotlib.pyplot as plt\n",
    "import seaborn as sns\n"
   ]
  },
  {
   "cell_type": "code",
   "execution_count": null,
   "id": "5c675822",
   "metadata": {},
   "outputs": [],
   "source": [
    "\n",
    "# Step 2: Load Dataset\n",
    "df = pd.read_csv(\"sales.csv\")\n",
    "\n",
    "print(\"🔹 First 5 rows of data:\")\n",
    "display(df.head())\n",
    "\n",
    "print(\"\\n🔹 Dataset Info:\")\n",
    "display(df.info())\n",
    "\n",
    "print(\"\\n🔹 Missing values:\")\n",
    "display(df.isnull().sum())\n"
   ]
  },
  {
   "cell_type": "code",
   "execution_count": null,
   "id": "8613d309",
   "metadata": {},
   "outputs": [],
   "source": [
    "\n",
    "# Step 3: Data Cleaning\n",
    "# Convert Date column to datetime format\n",
    "df['Date'] = pd.to_datetime(df['Date'])\n",
    "\n",
    "# Add a new column \"Total Sales\"\n",
    "df['Total_Sales'] = df['Quantity'] * df['Price']\n",
    "\n",
    "print(\"\\n🔹 Data after cleaning:\")\n",
    "display(df.head())\n"
   ]
  },
  {
   "cell_type": "code",
   "execution_count": null,
   "id": "35c9b590",
   "metadata": {},
   "outputs": [],
   "source": [
    "\n",
    "# Step 4: Descriptive Analysis\n",
    "\n",
    "print(\"\\n🔹 Total Sales by Category:\")\n",
    "display(df.groupby('Category')['Total_Sales'].sum())\n",
    "\n",
    "print(\"\\n🔹 Best Selling Product:\")\n",
    "display(df.groupby('Product')['Total_Sales'].sum().sort_values(ascending=False).head(1))\n"
   ]
  },
  {
   "cell_type": "code",
   "execution_count": null,
   "id": "ae9c5134",
   "metadata": {},
   "outputs": [],
   "source": [
    "\n",
    "# Step 5: Visualizations\n",
    "\n",
    "# 5.1 Total Sales by Category\n",
    "plt.figure(figsize=(10,6))\n",
    "sns.barplot(x='Category', y='Total_Sales', data=df, estimator=sum, palette='viridis')\n",
    "plt.title(\"Total Sales by Category\")\n",
    "plt.ylabel(\"Sales Amount\")\n",
    "plt.show()\n",
    "\n",
    "# 5.2 Monthly Sales Trend\n",
    "monthly_sales = df.groupby(df['Date'].dt.to_period('M'))['Total_Sales'].sum()\n",
    "\n",
    "plt.figure(figsize=(10,6))\n",
    "monthly_sales.plot(kind='line', marker='o', color='blue')\n",
    "plt.title(\"Monthly Sales Trend\")\n",
    "plt.xlabel(\"Month\")\n",
    "plt.ylabel(\"Total Sales\")\n",
    "plt.show()\n",
    "\n",
    "# 5.3 Product-wise Sales\n",
    "plt.figure(figsize=(10,6))\n",
    "sns.barplot(x='Product', y='Total_Sales', data=df, estimator=sum, palette='coolwarm')\n",
    "plt.title(\"Product-wise Total Sales\")\n",
    "plt.xticks(rotation=45)\n",
    "plt.show()\n"
   ]
  }
 ],
 "metadata": {},
 "nbformat": 4,
 "nbformat_minor": 5
}
